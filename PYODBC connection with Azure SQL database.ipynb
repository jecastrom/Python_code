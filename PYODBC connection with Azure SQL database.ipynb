{
 "cells": [
  {
   "cell_type": "markdown",
   "id": "ae27e25b",
   "metadata": {},
   "source": [
    "### PYODBC connection to Azure SQL database\n",
    "#### Jorge Castro"
   ]
  },
  {
   "cell_type": "code",
   "execution_count": null,
   "id": "14b26351",
   "metadata": {},
   "outputs": [],
   "source": [
    "import sqlite3\n",
    "import textwrap\n",
    "import pyodbc\n",
    "import keyring"
   ]
  },
  {
   "cell_type": "code",
   "execution_count": 4,
   "id": "20f652ad",
   "metadata": {},
   "outputs": [],
   "source": [
    "conx_string = pyodbc.connect('Driver={ODBC Driver 17 for SQL Server};Server=tcp:a200jcd.database.windows.net,1433;Database=py_sql_test;Uid=a100jcd;Pwd=pqowieurzt8%;Encrypt=yes;TrustServerCertificate=no;Connection Timeout=30;')\n"
   ]
  },
  {
   "cell_type": "code",
   "execution_count": 5,
   "id": "e0b7758d",
   "metadata": {},
   "outputs": [],
   "source": [
    "cursor = conx_string.cursor()"
   ]
  },
  {
   "cell_type": "code",
   "execution_count": 11,
   "id": "d96442cb",
   "metadata": {},
   "outputs": [
    {
     "data": {
      "text/plain": [
       "<pyodbc.Cursor at 0x29c6736e8b0>"
      ]
     },
     "execution_count": 11,
     "metadata": {},
     "output_type": "execute_result"
    }
   ],
   "source": [
    "cursor.execute(\"INSERT INTO employees VALUES('Jorge', 'Castro', 115000)\")"
   ]
  },
  {
   "cell_type": "code",
   "execution_count": 12,
   "id": "ca5d840d",
   "metadata": {},
   "outputs": [],
   "source": [
    "cursor.commit()"
   ]
  },
  {
   "cell_type": "code",
   "execution_count": 13,
   "id": "53388055",
   "metadata": {},
   "outputs": [
    {
     "data": {
      "text/plain": [
       "<pyodbc.Cursor at 0x29c6736e8b0>"
      ]
     },
     "execution_count": 13,
     "metadata": {},
     "output_type": "execute_result"
    }
   ],
   "source": [
    "cursor.execute(\"SELECT * FROM employees\")"
   ]
  },
  {
   "cell_type": "code",
   "execution_count": 14,
   "id": "fef93b2b",
   "metadata": {},
   "outputs": [
    {
     "data": {
      "text/plain": [
       "[('Maria', 'Mayer', 120000.0), ('Jorge', 'Castro', 115000.0)]"
      ]
     },
     "execution_count": 14,
     "metadata": {},
     "output_type": "execute_result"
    }
   ],
   "source": [
    "cursor.fetchall()"
   ]
  },
  {
   "cell_type": "code",
   "execution_count": 15,
   "id": "d6641f5b",
   "metadata": {},
   "outputs": [
    {
     "name": "stdout",
     "output_type": "stream",
     "text": [
      "('Maria', 'Mayer', 120000.0)\n",
      "('Jorge', 'Castro', 115000.0)\n"
     ]
    }
   ],
   "source": [
    "for i in cursor.execute(\"SELECT * FROM employees\"):\n",
    "    print(i)"
   ]
  },
  {
   "cell_type": "code",
   "execution_count": 20,
   "id": "d047a64b",
   "metadata": {},
   "outputs": [
    {
     "name": "stdout",
     "output_type": "stream",
     "text": [
      "New employee name: Annalina\n",
      "New employee surname: Staiker\n",
      "enter salary: 197550\n"
     ]
    }
   ],
   "source": [
    "name = input('New employee name: ')\n",
    "surname = input('New employee surname: ')\n",
    "salary = float(input('enter salary: '))"
   ]
  },
  {
   "cell_type": "code",
   "execution_count": 21,
   "id": "7b6dcb85",
   "metadata": {},
   "outputs": [
    {
     "data": {
      "text/plain": [
       "<pyodbc.Cursor at 0x29c6736e8b0>"
      ]
     },
     "execution_count": 21,
     "metadata": {},
     "output_type": "execute_result"
    }
   ],
   "source": [
    "cursor.execute(\"INSERT INTO employees VALUES(?,?,?)\", (name,surname,salary))"
   ]
  },
  {
   "cell_type": "code",
   "execution_count": 22,
   "id": "aa1e4817",
   "metadata": {},
   "outputs": [
    {
     "data": {
      "text/plain": [
       "<pyodbc.Cursor at 0x29c6736e8b0>"
      ]
     },
     "execution_count": 22,
     "metadata": {},
     "output_type": "execute_result"
    }
   ],
   "source": [
    "cursor.execute(\"SELECT * FROM employees\")"
   ]
  },
  {
   "cell_type": "code",
   "execution_count": 23,
   "id": "e0f21b95",
   "metadata": {},
   "outputs": [
    {
     "data": {
      "text/plain": [
       "[('Maria', 'Mayer', 120000.0),\n",
       " ('Jorge', 'Castro', 115000.0),\n",
       " ('Jose', 'Diaz', 70000.0),\n",
       " ('Annalina', 'Staiker', 197550.0)]"
      ]
     },
     "execution_count": 23,
     "metadata": {},
     "output_type": "execute_result"
    }
   ],
   "source": [
    "cursor.fetchall()"
   ]
  },
  {
   "cell_type": "code",
   "execution_count": 24,
   "id": "0ac37667",
   "metadata": {},
   "outputs": [],
   "source": [
    "cursor.close()"
   ]
  },
  {
   "cell_type": "code",
   "execution_count": null,
   "id": "66567c55",
   "metadata": {},
   "outputs": [],
   "source": []
  }
 ],
 "metadata": {
  "kernelspec": {
   "display_name": "Python 3",
   "language": "python",
   "name": "python3"
  },
  "language_info": {
   "codemirror_mode": {
    "name": "ipython",
    "version": 3
   },
   "file_extension": ".py",
   "mimetype": "text/x-python",
   "name": "python",
   "nbconvert_exporter": "python",
   "pygments_lexer": "ipython3",
   "version": "3.8.8"
  }
 },
 "nbformat": 4,
 "nbformat_minor": 5
}
